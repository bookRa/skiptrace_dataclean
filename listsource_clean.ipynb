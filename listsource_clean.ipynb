{
 "cells": [
  {
   "cell_type": "code",
   "execution_count": 3,
   "metadata": {},
   "outputs": [],
   "source": [
    "# Purpose of this doc is to be able to import any listsource data and format it in a way such that complete names, companies, etc. are all \n",
    "# parsed and ready for proper skip-tracing\n",
    "import pandas as pd"
   ]
  },
  {
   "cell_type": "code",
   "execution_count": 71,
   "metadata": {},
   "outputs": [],
   "source": [
    "filename = \"sample\"\n",
    "raw = pd.read_csv(f'./{filename}/{filename}.csv').drop(columns=['Owner Address Combined', 'Property Combined'])"
   ]
  },
  {
   "cell_type": "code",
   "execution_count": 35,
   "metadata": {},
   "outputs": [
    {
     "output_type": "execute_result",
     "data": {
      "text/plain": "Index(['OWNER 1 LABEL NAME', 'OWNER 1 LAST NAME', 'OWNER 1 FIRST NAME',\n       'OWNER 1 MIDDLE NAME', 'OWNER 1 SUFFIX', 'OWNER 2 LABEL NAME',\n       'OWNER 2 LAST NAME', 'OWNER 2 FIRST NAME', 'OWNER 2 MIDDLE NAME',\n       'OWNER 2 SUFFIX', 'OWNER CARE OF NAME', 'MAIL ADDRESS', 'MAIL CITY',\n       'MAIL STATE', 'MAIL ZIP CODE', 'MAIL ZIP+4', 'MAIL ZIP/ZIP+4',\n       'MAIL CARRIER ROUTE', 'MAIL COUNTRY', 'PROPERTY ADDRESS',\n       'PROPERTY HOUSE NUMBER', 'PROPERTY HOUSE NUMBER PREFIX',\n       'PROPERTY HOUSE NUMBER SUFFIX', 'PROPERTY HOUSE NUMBER 2',\n       'PROPERTY PRE DIRECTION', 'PROPERTY STREET NAME',\n       'PROPERTY STREET NAME SUFFIX', 'PROPERTY POST DIRECTION',\n       'PROPERTY UNIT NUMBER', 'PROPERTY CITY', 'PROPERTY STATE',\n       'PROPERTY ZIP CODE', 'PROPERTY ZIP+4', 'PROPERTY ZIP/ZIP+4',\n       'PROPERTY CARRIER ROUTE', 'COUNTY', 'UNITS - NUMBER OF'],\n      dtype='object')"
     },
     "metadata": {},
     "execution_count": 35
    }
   ],
   "source": [
    "raw.columns"
   ]
  },
  {
   "cell_type": "code",
   "execution_count": 45,
   "metadata": {},
   "outputs": [],
   "source": [
    "LISTSOURCE_MAPPING = {\n",
    "    \"OWNER 1 LABEL NAME\": \"full_name\",\n",
    "    \"OWNER 1 LAST NAME\": \"last_name\",\n",
    "    \"OWNER 1 MIDDLE NAME\": \"middle_name\",\n",
    "    \"OWNER 1 FIRST NAME\": \"first_name\",\n",
    "    \"MAIL ADDRESS\": \"mail_add\",\n",
    "    \"MAIL CITY\": \"mail_city\",\n",
    "    \"MAIL STATE\": \"maill_state\",\n",
    "    \"MAIL ZIP CODE\": \"mail_zip\",\n",
    "    \"PROPERTY ADDRESS\": \"prop_add\",\n",
    "    \"PROPERTY UNIT NUMBER\": \"prop_unit\",\n",
    "    \"PROPERTY CITY\": \"prop_city\",\n",
    "    \"PROPERTY STATE\": \"prop_state\",\n",
    "    \"PROPERTY ZIP CODE\": \"prop_zip\",\n",
    "    \"COUNTY\": \"prop_county\",\n",
    "    \"UNITS - NUMBER OF\": \"prop_size\"\n",
    "}\n",
    "mapped_cols = raw[LISTSOURCE_MAPPING.keys()].rename(LISTSOURCE_MAPPING, axis=1)"
   ]
  },
  {
   "cell_type": "code",
   "execution_count": 46,
   "metadata": {},
   "outputs": [
    {
     "output_type": "execute_result",
     "data": {
      "text/plain": "[0      False\n 1      False\n 2      False\n 3      False\n 4      False\n        ...  \n 414    False\n 415    False\n 416    False\n 417    False\n 418    False\n Length: 419, dtype: bool]"
     },
     "metadata": {},
     "execution_count": 46
    }
   ],
   "source": [
    "[(mapped_cols.first_name.str.len() < 2) | (mapped_cols.last_name.str.len() < 2)]"
   ]
  },
  {
   "cell_type": "code",
   "execution_count": 60,
   "metadata": {},
   "outputs": [],
   "source": [
    "mask = (\n",
    "    (mapped_cols.first_name.str.len() < 2) |\n",
    "    (mapped_cols.last_name.str.len() < 2)  | \n",
    "    (mapped_cols.full_name.str.contains(\"inc|trust|llc|corp|homes\", na=True, regex=True))\n",
    ")"
   ]
  },
  {
   "cell_type": "code",
   "execution_count": 69,
   "metadata": {},
   "outputs": [],
   "source": [
    "incomplete = mapped_cols[mask]\n",
    "complete = mapped_cols[~mask]"
   ]
  },
  {
   "cell_type": "code",
   "execution_count": 73,
   "metadata": {},
   "outputs": [],
   "source": [
    "complete.to_csv(f\"./{filename}/clean.csv\")\n",
    "incomplete.to_csv(f\"./{filename}/incomplete.csv\")"
   ]
  },
  {
   "cell_type": "code",
   "execution_count": null,
   "metadata": {},
   "outputs": [],
   "source": []
  }
 ],
 "metadata": {
  "language_info": {
   "codemirror_mode": {
    "name": "ipython",
    "version": 3
   },
   "file_extension": ".py",
   "mimetype": "text/x-python",
   "name": "python",
   "nbconvert_exporter": "python",
   "pygments_lexer": "ipython3",
   "version": "3.7.6-final"
  },
  "orig_nbformat": 2,
  "kernelspec": {
   "name": "python3",
   "display_name": "Python 3"
  }
 },
 "nbformat": 4,
 "nbformat_minor": 2
}