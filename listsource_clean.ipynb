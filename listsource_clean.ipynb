{
 "cells": [
  {
   "cell_type": "code",
   "execution_count": 54,
   "metadata": {},
   "outputs": [],
   "source": [
    "# Purpose of this doc is to be able to import any listsource data and format it in a way such that complete names, companies, etc. are all \n",
    "# parsed and ready for proper skip-tracing\n",
    "import pandas as pd\n",
    "import os.path\n",
    "from upload_to_drive import export_to_folder"
   ]
  },
  {
   "cell_type": "code",
   "execution_count": 55,
   "metadata": {},
   "outputs": [],
   "source": [
    "filename = \"sample\"\n",
    "raw = pd.read_csv(f'./data/{filename}/{filename}.csv').drop(columns=['Owner Address Combined', 'Property Combined'])"
   ]
  },
  {
   "cell_type": "code",
   "execution_count": 56,
   "metadata": {},
   "outputs": [
    {
     "output_type": "execute_result",
     "data": {
      "text/plain": "Index(['OWNER 1 LABEL NAME', 'OWNER 1 LAST NAME', 'OWNER 1 FIRST NAME',\n       'OWNER 1 MIDDLE NAME', 'OWNER 1 SUFFIX', 'OWNER 2 LABEL NAME',\n       'OWNER 2 LAST NAME', 'OWNER 2 FIRST NAME', 'OWNER 2 MIDDLE NAME',\n       'OWNER 2 SUFFIX', 'OWNER CARE OF NAME', 'MAIL ADDRESS', 'MAIL CITY',\n       'MAIL STATE', 'MAIL ZIP CODE', 'MAIL ZIP+4', 'MAIL ZIP/ZIP+4',\n       'MAIL CARRIER ROUTE', 'MAIL COUNTRY', 'PROPERTY ADDRESS',\n       'PROPERTY HOUSE NUMBER', 'PROPERTY HOUSE NUMBER PREFIX',\n       'PROPERTY HOUSE NUMBER SUFFIX', 'PROPERTY HOUSE NUMBER 2',\n       'PROPERTY PRE DIRECTION', 'PROPERTY STREET NAME',\n       'PROPERTY STREET NAME SUFFIX', 'PROPERTY POST DIRECTION',\n       'PROPERTY UNIT NUMBER', 'PROPERTY CITY', 'PROPERTY STATE',\n       'PROPERTY ZIP CODE', 'PROPERTY ZIP+4', 'PROPERTY ZIP/ZIP+4',\n       'PROPERTY CARRIER ROUTE', 'COUNTY', 'UNITS - NUMBER OF'],\n      dtype='object')"
     },
     "metadata": {},
     "execution_count": 56
    }
   ],
   "source": [
    "raw.columns"
   ]
  },
  {
   "cell_type": "code",
   "execution_count": 57,
   "metadata": {},
   "outputs": [],
   "source": [
    "LISTSOURCE_MAPPING = {\n",
    "    \"OWNER 1 LABEL NAME\": \"full_name\",\n",
    "    \"OWNER 1 LAST NAME\": \"last_name\",\n",
    "    \"OWNER 1 MIDDLE NAME\": \"middle_name\",\n",
    "    \"OWNER 1 FIRST NAME\": \"first_name\",\n",
    "    \"MAIL ADDRESS\": \"mail_add\",\n",
    "    \"MAIL CITY\": \"mail_city\",\n",
    "    \"MAIL STATE\": \"maill_state\",\n",
    "    \"MAIL ZIP CODE\": \"mail_zip\",\n",
    "    \"PROPERTY ADDRESS\": \"prop_add\",\n",
    "    \"PROPERTY UNIT NUMBER\": \"prop_unit\",\n",
    "    \"PROPERTY CITY\": \"prop_city\",\n",
    "    \"PROPERTY STATE\": \"prop_state\",\n",
    "    \"PROPERTY ZIP CODE\": \"prop_zip\",\n",
    "    \"COUNTY\": \"prop_county\",\n",
    "    \"UNITS - NUMBER OF\": \"prop_size\"\n",
    "}\n",
    "ENTITY_NAMES = \"|\".join([\" Inc\", \" Trust \", \"L L C\", \" LLC\", \" Corp\", \" Home \", \" Co \"])\n",
    "mapped_cols = raw[LISTSOURCE_MAPPING.keys()].rename(LISTSOURCE_MAPPING, axis=1)"
   ]
  },
  {
   "cell_type": "code",
   "execution_count": 58,
   "metadata": {},
   "outputs": [],
   "source": [
    "mask = (\n",
    "    (mapped_cols.first_name.str.len() < 2) |\n",
    "    (mapped_cols.last_name.str.len() < 2)  | \n",
    "    (mapped_cols.full_name.str.contains(ENTITY_NAMES, na=True, regex=True))\n",
    ")"
   ]
  },
  {
   "cell_type": "code",
   "execution_count": 59,
   "metadata": {},
   "outputs": [],
   "source": [
    "incomplete = mapped_cols[mask]\n",
    "complete = mapped_cols[~mask]"
   ]
  },
  {
   "cell_type": "code",
   "execution_count": 72,
   "metadata": {},
   "outputs": [
    {
     "output_type": "execute_result",
     "data": {
      "text/plain": "(2, 417)"
     },
     "metadata": {},
     "execution_count": 72
    }
   ],
   "source": [
    "len(incomplete), len(complete)"
   ]
  },
  {
   "cell_type": "code",
   "execution_count": 61,
   "metadata": {},
   "outputs": [],
   "source": [
    "clean_file = f\"./data/{filename}/clean.csv\"\n",
    "dirty_file = f\"./data/{filename}/incomplete.csv\"\n",
    "complete.to_csv(clean_file)\n",
    "incomplete.to_csv(dirty_file)"
   ]
  },
  {
   "cell_type": "code",
   "execution_count": 65,
   "metadata": {},
   "outputs": [
    {
     "output_type": "error",
     "ename": "TypeError",
     "evalue": "export_to_folder() takes 2 positional arguments but 3 were given",
     "traceback": [
      "\u001b[0;31m---------------------------------------------------------------------------\u001b[0m",
      "\u001b[0;31mTypeError\u001b[0m                                 Traceback (most recent call last)",
      "\u001b[0;32m<ipython-input-65-ce0c1b279d6c>\u001b[0m in \u001b[0;36m<module>\u001b[0;34m\u001b[0m\n\u001b[1;32m      1\u001b[0m \u001b[0;31m# export_to_folder(f\"try_again_munge/{filename}\", clean_file, \"text/csv\")\u001b[0m\u001b[0;34m\u001b[0m\u001b[0;34m\u001b[0m\u001b[0;34m\u001b[0m\u001b[0m\n\u001b[1;32m      2\u001b[0m \u001b[0;31m# export_to_folder(f\"try_again_munge/{filename}\", dirty_file, \"text/csv\")\u001b[0m\u001b[0;34m\u001b[0m\u001b[0;34m\u001b[0m\u001b[0;34m\u001b[0m\u001b[0m\n\u001b[0;32m----> 3\u001b[0;31m \u001b[0mexport_to_folder\u001b[0m\u001b[0;34m(\u001b[0m\u001b[0;34m\"whats up\"\u001b[0m\u001b[0;34m,\u001b[0m \u001b[0mclean_file\u001b[0m\u001b[0;34m,\u001b[0m \u001b[0;34m\"text/csv\"\u001b[0m\u001b[0;34m)\u001b[0m\u001b[0;34m\u001b[0m\u001b[0;34m\u001b[0m\u001b[0m\n\u001b[0m",
      "\u001b[0;31mTypeError\u001b[0m: export_to_folder() takes 2 positional arguments but 3 were given"
     ]
    }
   ],
   "source": [
    "export_to_folder(f\"try_again_munge/{filename}\", clean_file, \"text/csv\")\n",
    "export_to_folder(f\"try_again_munge/{filename}\", dirty_file, \"text/csv\")"
   ]
  }
 ],
 "metadata": {
  "language_info": {
   "codemirror_mode": {
    "name": "ipython",
    "version": 3
   },
   "file_extension": ".py",
   "mimetype": "text/x-python",
   "name": "python",
   "nbconvert_exporter": "python",
   "pygments_lexer": "ipython3",
   "version": "3.8.2-final"
  },
  "orig_nbformat": 2,
  "kernelspec": {
   "name": "python3",
   "display_name": "Python 3"
  }
 },
 "nbformat": 4,
 "nbformat_minor": 2
}